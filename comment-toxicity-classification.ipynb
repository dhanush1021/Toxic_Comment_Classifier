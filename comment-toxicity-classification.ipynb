{
 "cells": [
  {
   "cell_type": "code",
   "execution_count": 1,
   "metadata": {
    "_cell_guid": "b1076dfc-b9ad-4769-8c92-a6c4dae69d19",
    "_uuid": "8f2839f25d086af736a60e9eeb907d3b93b6e0e5",
    "execution": {
     "iopub.execute_input": "2023-08-15T11:08:43.795087Z",
     "iopub.status.busy": "2023-08-15T11:08:43.794696Z",
     "iopub.status.idle": "2023-08-15T11:08:43.803782Z",
     "shell.execute_reply": "2023-08-15T11:08:43.802752Z",
     "shell.execute_reply.started": "2023-08-15T11:08:43.795056Z"
    }
   },
   "outputs": [],
   "source": [
    "import os\n",
    "# for dirname, _, filenames in os.walk('/kaggle/input'):\n",
    "#     for filename in filenames:\n",
    "#         print(os.path.join(dirname, filename))"
   ]
  },
  {
   "cell_type": "code",
   "execution_count": 2,
   "metadata": {
    "execution": {
     "iopub.execute_input": "2023-08-15T11:08:43.806984Z",
     "iopub.status.busy": "2023-08-15T11:08:43.805932Z",
     "iopub.status.idle": "2023-08-15T11:08:43.812261Z",
     "shell.execute_reply": "2023-08-15T11:08:43.811128Z",
     "shell.execute_reply.started": "2023-08-15T11:08:43.806950Z"
    }
   },
   "outputs": [
    {
     "ename": "ModuleNotFoundError",
     "evalue": "No module named 'numpy'",
     "output_type": "error",
     "traceback": [
      "\u001b[1;31m---------------------------------------------------------------------------\u001b[0m",
      "\u001b[1;31mModuleNotFoundError\u001b[0m                       Traceback (most recent call last)",
      "\u001b[1;32mc:\\Users\\hp\\OneDrive\\Desktop\\Toxic Comments Classification\\comment-toxicity-classification.ipynb Cell 2\u001b[0m line \u001b[0;36m1\n\u001b[1;32m----> <a href='vscode-notebook-cell:/c%3A/Users/hp/OneDrive/Desktop/Toxic%20Comments%20Classification/comment-toxicity-classification.ipynb#W1sZmlsZQ%3D%3D?line=0'>1</a>\u001b[0m \u001b[39mimport\u001b[39;00m \u001b[39mnumpy\u001b[39;00m \u001b[39mas\u001b[39;00m \u001b[39mnp\u001b[39;00m \n\u001b[0;32m      <a href='vscode-notebook-cell:/c%3A/Users/hp/OneDrive/Desktop/Toxic%20Comments%20Classification/comment-toxicity-classification.ipynb#W1sZmlsZQ%3D%3D?line=1'>2</a>\u001b[0m \u001b[39mimport\u001b[39;00m \u001b[39mpandas\u001b[39;00m \u001b[39mas\u001b[39;00m \u001b[39mpd\u001b[39;00m\n\u001b[0;32m      <a href='vscode-notebook-cell:/c%3A/Users/hp/OneDrive/Desktop/Toxic%20Comments%20Classification/comment-toxicity-classification.ipynb#W1sZmlsZQ%3D%3D?line=2'>3</a>\u001b[0m \u001b[39mimport\u001b[39;00m \u001b[39mmatplotlib\u001b[39;00m\u001b[39m.\u001b[39;00m\u001b[39mpyplot\u001b[39;00m \u001b[39mas\u001b[39;00m \u001b[39mplt\u001b[39;00m\n",
      "\u001b[1;31mModuleNotFoundError\u001b[0m: No module named 'numpy'"
     ]
    }
   ],
   "source": [
    "import numpy as np \n",
    "import pandas as pd\n",
    "import matplotlib.pyplot as plt"
   ]
  },
  {
   "cell_type": "markdown",
   "metadata": {},
   "source": [
    "# Load datasets"
   ]
  },
  {
   "cell_type": "markdown",
   "metadata": {},
   "source": [
    "## Unzip data"
   ]
  },
  {
   "cell_type": "code",
   "execution_count": null,
   "metadata": {
    "execution": {
     "iopub.execute_input": "2023-08-15T11:08:43.814321Z",
     "iopub.status.busy": "2023-08-15T11:08:43.814060Z",
     "iopub.status.idle": "2023-08-15T11:08:44.835726Z",
     "shell.execute_reply": "2023-08-15T11:08:44.834357Z",
     "shell.execute_reply.started": "2023-08-15T11:08:43.814298Z"
    }
   },
   "outputs": [
    {
     "data": {
      "text/plain": [
       "'train'"
      ]
     },
     "execution_count": 3,
     "metadata": {},
     "output_type": "execute_result"
    }
   ],
   "source": [
    "import zipfile\n",
    "\n",
    "train_zip_path = \"train.csv.zip\"\n",
    "test_zip_path = \"test.csv.zip\"\n",
    "\n",
    "train_path = \"train\"\n",
    "test_path = \"test\"\n",
    "\n",
    "with zipfile.ZipFile(train_zip_path, 'r') as zip_ref:\n",
    "    zip_ref.extractall(train_path)\n",
    "    \n",
    "with zipfile.ZipFile(test_zip_path, 'r') as zip_ref:\n",
    "    zip_ref.extractall(test_path)\n",
    "    \n",
    "train_path"
   ]
  },
  {
   "cell_type": "markdown",
   "metadata": {},
   "source": [
    "## Load data"
   ]
  },
  {
   "cell_type": "code",
   "execution_count": null,
   "metadata": {
    "execution": {
     "iopub.execute_input": "2023-08-15T11:08:44.839673Z",
     "iopub.status.busy": "2023-08-15T11:08:44.838122Z",
     "iopub.status.idle": "2023-08-15T11:08:44.845724Z",
     "shell.execute_reply": "2023-08-15T11:08:44.844718Z",
     "shell.execute_reply.started": "2023-08-15T11:08:44.839637Z"
    }
   },
   "outputs": [],
   "source": [
    "train_csv_path = os.path.join(train_path, \"train.csv\")\n",
    "test_csv_path = os.path.join(test_path, \"test.csv\")"
   ]
  },
  {
   "cell_type": "code",
   "execution_count": null,
   "metadata": {
    "execution": {
     "iopub.execute_input": "2023-08-15T11:08:44.847763Z",
     "iopub.status.busy": "2023-08-15T11:08:44.847400Z",
     "iopub.status.idle": "2023-08-15T11:08:45.835185Z",
     "shell.execute_reply": "2023-08-15T11:08:45.834225Z",
     "shell.execute_reply.started": "2023-08-15T11:08:44.847713Z"
    }
   },
   "outputs": [
    {
     "data": {
      "text/html": [
       "<div>\n",
       "<style scoped>\n",
       "    .dataframe tbody tr th:only-of-type {\n",
       "        vertical-align: middle;\n",
       "    }\n",
       "\n",
       "    .dataframe tbody tr th {\n",
       "        vertical-align: top;\n",
       "    }\n",
       "\n",
       "    .dataframe thead th {\n",
       "        text-align: right;\n",
       "    }\n",
       "</style>\n",
       "<table border=\"1\" class=\"dataframe\">\n",
       "  <thead>\n",
       "    <tr style=\"text-align: right;\">\n",
       "      <th></th>\n",
       "      <th>id</th>\n",
       "      <th>comment_text</th>\n",
       "      <th>toxic</th>\n",
       "      <th>severe_toxic</th>\n",
       "      <th>obscene</th>\n",
       "      <th>threat</th>\n",
       "      <th>insult</th>\n",
       "      <th>identity_hate</th>\n",
       "    </tr>\n",
       "  </thead>\n",
       "  <tbody>\n",
       "    <tr>\n",
       "      <th>0</th>\n",
       "      <td>0000997932d777bf</td>\n",
       "      <td>Explanation\\nWhy the edits made under my usern...</td>\n",
       "      <td>0</td>\n",
       "      <td>0</td>\n",
       "      <td>0</td>\n",
       "      <td>0</td>\n",
       "      <td>0</td>\n",
       "      <td>0</td>\n",
       "    </tr>\n",
       "    <tr>\n",
       "      <th>1</th>\n",
       "      <td>000103f0d9cfb60f</td>\n",
       "      <td>D'aww! He matches this background colour I'm s...</td>\n",
       "      <td>0</td>\n",
       "      <td>0</td>\n",
       "      <td>0</td>\n",
       "      <td>0</td>\n",
       "      <td>0</td>\n",
       "      <td>0</td>\n",
       "    </tr>\n",
       "    <tr>\n",
       "      <th>2</th>\n",
       "      <td>000113f07ec002fd</td>\n",
       "      <td>Hey man, I'm really not trying to edit war. It...</td>\n",
       "      <td>0</td>\n",
       "      <td>0</td>\n",
       "      <td>0</td>\n",
       "      <td>0</td>\n",
       "      <td>0</td>\n",
       "      <td>0</td>\n",
       "    </tr>\n",
       "    <tr>\n",
       "      <th>3</th>\n",
       "      <td>0001b41b1c6bb37e</td>\n",
       "      <td>\"\\nMore\\nI can't make any real suggestions on ...</td>\n",
       "      <td>0</td>\n",
       "      <td>0</td>\n",
       "      <td>0</td>\n",
       "      <td>0</td>\n",
       "      <td>0</td>\n",
       "      <td>0</td>\n",
       "    </tr>\n",
       "    <tr>\n",
       "      <th>4</th>\n",
       "      <td>0001d958c54c6e35</td>\n",
       "      <td>You, sir, are my hero. Any chance you remember...</td>\n",
       "      <td>0</td>\n",
       "      <td>0</td>\n",
       "      <td>0</td>\n",
       "      <td>0</td>\n",
       "      <td>0</td>\n",
       "      <td>0</td>\n",
       "    </tr>\n",
       "    <tr>\n",
       "      <th>5</th>\n",
       "      <td>00025465d4725e87</td>\n",
       "      <td>\"\\n\\nCongratulations from me as well, use the ...</td>\n",
       "      <td>0</td>\n",
       "      <td>0</td>\n",
       "      <td>0</td>\n",
       "      <td>0</td>\n",
       "      <td>0</td>\n",
       "      <td>0</td>\n",
       "    </tr>\n",
       "    <tr>\n",
       "      <th>6</th>\n",
       "      <td>0002bcb3da6cb337</td>\n",
       "      <td>COCKSUCKER BEFORE YOU PISS AROUND ON MY WORK</td>\n",
       "      <td>1</td>\n",
       "      <td>1</td>\n",
       "      <td>1</td>\n",
       "      <td>0</td>\n",
       "      <td>1</td>\n",
       "      <td>0</td>\n",
       "    </tr>\n",
       "    <tr>\n",
       "      <th>7</th>\n",
       "      <td>00031b1e95af7921</td>\n",
       "      <td>Your vandalism to the Matt Shirvington article...</td>\n",
       "      <td>0</td>\n",
       "      <td>0</td>\n",
       "      <td>0</td>\n",
       "      <td>0</td>\n",
       "      <td>0</td>\n",
       "      <td>0</td>\n",
       "    </tr>\n",
       "    <tr>\n",
       "      <th>8</th>\n",
       "      <td>00037261f536c51d</td>\n",
       "      <td>Sorry if the word 'nonsense' was offensive to ...</td>\n",
       "      <td>0</td>\n",
       "      <td>0</td>\n",
       "      <td>0</td>\n",
       "      <td>0</td>\n",
       "      <td>0</td>\n",
       "      <td>0</td>\n",
       "    </tr>\n",
       "    <tr>\n",
       "      <th>9</th>\n",
       "      <td>00040093b2687caa</td>\n",
       "      <td>alignment on this subject and which are contra...</td>\n",
       "      <td>0</td>\n",
       "      <td>0</td>\n",
       "      <td>0</td>\n",
       "      <td>0</td>\n",
       "      <td>0</td>\n",
       "      <td>0</td>\n",
       "    </tr>\n",
       "  </tbody>\n",
       "</table>\n",
       "</div>"
      ],
      "text/plain": [
       "                 id                                       comment_text  toxic  \\\n",
       "0  0000997932d777bf  Explanation\\nWhy the edits made under my usern...      0   \n",
       "1  000103f0d9cfb60f  D'aww! He matches this background colour I'm s...      0   \n",
       "2  000113f07ec002fd  Hey man, I'm really not trying to edit war. It...      0   \n",
       "3  0001b41b1c6bb37e  \"\\nMore\\nI can't make any real suggestions on ...      0   \n",
       "4  0001d958c54c6e35  You, sir, are my hero. Any chance you remember...      0   \n",
       "5  00025465d4725e87  \"\\n\\nCongratulations from me as well, use the ...      0   \n",
       "6  0002bcb3da6cb337       COCKSUCKER BEFORE YOU PISS AROUND ON MY WORK      1   \n",
       "7  00031b1e95af7921  Your vandalism to the Matt Shirvington article...      0   \n",
       "8  00037261f536c51d  Sorry if the word 'nonsense' was offensive to ...      0   \n",
       "9  00040093b2687caa  alignment on this subject and which are contra...      0   \n",
       "\n",
       "   severe_toxic  obscene  threat  insult  identity_hate  \n",
       "0             0        0       0       0              0  \n",
       "1             0        0       0       0              0  \n",
       "2             0        0       0       0              0  \n",
       "3             0        0       0       0              0  \n",
       "4             0        0       0       0              0  \n",
       "5             0        0       0       0              0  \n",
       "6             1        1       0       1              0  \n",
       "7             0        0       0       0              0  \n",
       "8             0        0       0       0              0  \n",
       "9             0        0       0       0              0  "
      ]
     },
     "execution_count": 5,
     "metadata": {},
     "output_type": "execute_result"
    }
   ],
   "source": [
    "train_df = pd.read_csv(train_csv_path)\n",
    "train_df.head(10)"
   ]
  },
  {
   "cell_type": "code",
   "execution_count": null,
   "metadata": {
    "execution": {
     "iopub.execute_input": "2023-08-15T11:08:45.837157Z",
     "iopub.status.busy": "2023-08-15T11:08:45.836626Z",
     "iopub.status.idle": "2023-08-15T11:08:46.756973Z",
     "shell.execute_reply": "2023-08-15T11:08:46.756014Z",
     "shell.execute_reply.started": "2023-08-15T11:08:45.837119Z"
    }
   },
   "outputs": [
    {
     "data": {
      "text/html": [
       "<div>\n",
       "<style scoped>\n",
       "    .dataframe tbody tr th:only-of-type {\n",
       "        vertical-align: middle;\n",
       "    }\n",
       "\n",
       "    .dataframe tbody tr th {\n",
       "        vertical-align: top;\n",
       "    }\n",
       "\n",
       "    .dataframe thead th {\n",
       "        text-align: right;\n",
       "    }\n",
       "</style>\n",
       "<table border=\"1\" class=\"dataframe\">\n",
       "  <thead>\n",
       "    <tr style=\"text-align: right;\">\n",
       "      <th></th>\n",
       "      <th>id</th>\n",
       "      <th>comment_text</th>\n",
       "    </tr>\n",
       "  </thead>\n",
       "  <tbody>\n",
       "    <tr>\n",
       "      <th>0</th>\n",
       "      <td>00001cee341fdb12</td>\n",
       "      <td>Yo bitch Ja Rule is more succesful then you'll...</td>\n",
       "    </tr>\n",
       "    <tr>\n",
       "      <th>1</th>\n",
       "      <td>0000247867823ef7</td>\n",
       "      <td>== From RfC == \\n\\n The title is fine as it is...</td>\n",
       "    </tr>\n",
       "    <tr>\n",
       "      <th>2</th>\n",
       "      <td>00013b17ad220c46</td>\n",
       "      <td>\" \\n\\n == Sources == \\n\\n * Zawe Ashton on Lap...</td>\n",
       "    </tr>\n",
       "    <tr>\n",
       "      <th>3</th>\n",
       "      <td>00017563c3f7919a</td>\n",
       "      <td>:If you have a look back at the source, the in...</td>\n",
       "    </tr>\n",
       "    <tr>\n",
       "      <th>4</th>\n",
       "      <td>00017695ad8997eb</td>\n",
       "      <td>I don't anonymously edit articles at all.</td>\n",
       "    </tr>\n",
       "    <tr>\n",
       "      <th>5</th>\n",
       "      <td>0001ea8717f6de06</td>\n",
       "      <td>Thank you for understanding. I think very high...</td>\n",
       "    </tr>\n",
       "    <tr>\n",
       "      <th>6</th>\n",
       "      <td>00024115d4cbde0f</td>\n",
       "      <td>Please do not add nonsense to Wikipedia. Such ...</td>\n",
       "    </tr>\n",
       "    <tr>\n",
       "      <th>7</th>\n",
       "      <td>000247e83dcc1211</td>\n",
       "      <td>:Dear god this site is horrible.</td>\n",
       "    </tr>\n",
       "    <tr>\n",
       "      <th>8</th>\n",
       "      <td>00025358d4737918</td>\n",
       "      <td>\" \\n Only a fool can believe in such numbers. ...</td>\n",
       "    </tr>\n",
       "    <tr>\n",
       "      <th>9</th>\n",
       "      <td>00026d1092fe71cc</td>\n",
       "      <td>== Double Redirects == \\n\\n When fixing double...</td>\n",
       "    </tr>\n",
       "  </tbody>\n",
       "</table>\n",
       "</div>"
      ],
      "text/plain": [
       "                 id                                       comment_text\n",
       "0  00001cee341fdb12  Yo bitch Ja Rule is more succesful then you'll...\n",
       "1  0000247867823ef7  == From RfC == \\n\\n The title is fine as it is...\n",
       "2  00013b17ad220c46  \" \\n\\n == Sources == \\n\\n * Zawe Ashton on Lap...\n",
       "3  00017563c3f7919a  :If you have a look back at the source, the in...\n",
       "4  00017695ad8997eb          I don't anonymously edit articles at all.\n",
       "5  0001ea8717f6de06  Thank you for understanding. I think very high...\n",
       "6  00024115d4cbde0f  Please do not add nonsense to Wikipedia. Such ...\n",
       "7  000247e83dcc1211                   :Dear god this site is horrible.\n",
       "8  00025358d4737918  \" \\n Only a fool can believe in such numbers. ...\n",
       "9  00026d1092fe71cc  == Double Redirects == \\n\\n When fixing double..."
      ]
     },
     "execution_count": 6,
     "metadata": {},
     "output_type": "execute_result"
    }
   ],
   "source": [
    "test_df = pd.read_csv(test_csv_path)\n",
    "test_df.head(10)"
   ]
  },
  {
   "cell_type": "code",
   "execution_count": null,
   "metadata": {
    "execution": {
     "iopub.execute_input": "2023-08-15T11:08:46.759814Z",
     "iopub.status.busy": "2023-08-15T11:08:46.758190Z",
     "iopub.status.idle": "2023-08-15T11:08:46.767647Z",
     "shell.execute_reply": "2023-08-15T11:08:46.766292Z",
     "shell.execute_reply.started": "2023-08-15T11:08:46.759778Z"
    }
   },
   "outputs": [
    {
     "data": {
      "text/plain": [
       "array(['toxic', 'severe_toxic', 'obscene', 'threat', 'insult',\n",
       "       'identity_hate'], dtype=object)"
      ]
     },
     "execution_count": 7,
     "metadata": {},
     "output_type": "execute_result"
    }
   ],
   "source": [
    "labels = train_df.columns[2:].to_numpy()\n",
    "labels"
   ]
  },
  {
   "cell_type": "markdown",
   "metadata": {},
   "source": [
    "# Split training dataset into training and validation\n",
    "\n",
    "Currently we have a training set and a test set. The training set has its corresponding labels, while the test set doesn't.\n",
    "\n",
    "To make sure that our model doesn't overfit, let's split our training set into two parts: a training set (which will be used to train the model) and a validation set (which will be used to make sure the model doesn't overfit)."
   ]
  },
  {
   "cell_type": "code",
   "execution_count": null,
   "metadata": {
    "execution": {
     "iopub.execute_input": "2023-08-15T11:08:46.772894Z",
     "iopub.status.busy": "2023-08-15T11:08:46.772453Z",
     "iopub.status.idle": "2023-08-15T11:08:46.784167Z",
     "shell.execute_reply": "2023-08-15T11:08:46.783123Z",
     "shell.execute_reply.started": "2023-08-15T11:08:46.772868Z"
    }
   },
   "outputs": [
    {
     "name": "stdout",
     "output_type": "stream",
     "text": [
      "Train sentences: (159571,)\n",
      "Train labels: (159571, 6)\n"
     ]
    }
   ],
   "source": [
    "train_sentences = train_df[\"comment_text\"]\n",
    "train_labels = train_df.iloc[:, 2:]\n",
    "\n",
    "print(f\"Train sentences: {train_sentences.shape}\")\n",
    "print(f\"Train labels: {train_labels.shape}\")"
   ]
  },
  {
   "cell_type": "code",
   "execution_count": null,
   "metadata": {
    "execution": {
     "iopub.execute_input": "2023-08-15T11:08:46.786309Z",
     "iopub.status.busy": "2023-08-15T11:08:46.785741Z",
     "iopub.status.idle": "2023-08-15T11:08:47.212973Z",
     "shell.execute_reply": "2023-08-15T11:08:47.211764Z",
     "shell.execute_reply.started": "2023-08-15T11:08:46.786277Z"
    }
   },
   "outputs": [
    {
     "name": "stdout",
     "output_type": "stream",
     "text": [
      "Train sentences: (127656,)\n",
      "Train labels: (127656, 6)\n",
      "Validation sentences: (31915,)\n",
      "Validation labels: (31915, 6)\n"
     ]
    }
   ],
   "source": [
    "from sklearn.model_selection import train_test_split\n",
    "\n",
    "train_pct = 0.8\n",
    "\n",
    "train_sentences, val_sentences, train_labels, val_labels = train_test_split(\n",
    "    train_sentences,\n",
    "    train_labels,\n",
    "    train_size=0.8\n",
    ")\n",
    "\n",
    "print(f\"Train sentences: {train_sentences.shape}\")\n",
    "print(f\"Train labels: {train_labels.shape}\")\n",
    "print(f\"Validation sentences: {val_sentences.shape}\")\n",
    "print(f\"Validation labels: {val_labels.shape}\")"
   ]
  },
  {
   "cell_type": "markdown",
   "metadata": {},
   "source": [
    "# Text Preprocessing\n",
    "\n",
    "We need to remove some punctuation marks and special charaters, so our text is clean and crisp!"
   ]
  },
  {
   "cell_type": "code",
   "execution_count": null,
   "metadata": {
    "execution": {
     "iopub.execute_input": "2023-08-15T11:08:47.215028Z",
     "iopub.status.busy": "2023-08-15T11:08:47.214650Z",
     "iopub.status.idle": "2023-08-15T11:08:47.225596Z",
     "shell.execute_reply": "2023-08-15T11:08:47.224302Z",
     "shell.execute_reply.started": "2023-08-15T11:08:47.214993Z"
    }
   },
   "outputs": [
    {
     "data": {
      "text/plain": [
       "24959     fanny does as well \\n\\n                       ...\n",
       "124566    what the hell is your problem?! \\n\\nwhy the fu...\n",
       "76425     Brother Cream \\n\\nHello Yunshui: I noticed tha...\n",
       "95134     No thank you, I have better ways to spend my t...\n",
       "6360      \"\\n\\nPlease stop. If you continue to blank pag...\n",
       "                                ...                        \n",
       "98083     If Roger Stritmatter gets his own page, I'll d...\n",
       "1885                 I'm working on it. Thanks for the tip.\n",
       "57540         Bla bla bla. Where are links to proof? Where?\n",
       "95669     \"\\nDo you think you are the \"\"owner\"\" of this ...\n",
       "86111          do you ever feel proud of blocking persons ?\n",
       "Name: comment_text, Length: 127656, dtype: object"
      ]
     },
     "execution_count": 10,
     "metadata": {},
     "output_type": "execute_result"
    }
   ],
   "source": [
    "# gunky text, bleugh\n",
    "train_sentences"
   ]
  },
  {
   "cell_type": "code",
   "execution_count": null,
   "metadata": {
    "execution": {
     "iopub.execute_input": "2023-08-15T11:08:47.227918Z",
     "iopub.status.busy": "2023-08-15T11:08:47.227532Z",
     "iopub.status.idle": "2023-08-15T11:08:47.235674Z",
     "shell.execute_reply": "2023-08-15T11:08:47.234560Z",
     "shell.execute_reply.started": "2023-08-15T11:08:47.227875Z"
    }
   },
   "outputs": [],
   "source": [
    "import string\n",
    "\n",
    "def remove_punctuation(text):\n",
    "    return text.translate(str.maketrans(\"\", \"\", string.punctuation))\n",
    "\n",
    "def remove_special_chars(text):\n",
    "    return text.replace(\"\\n\", \" \").replace(\"\\t\", \" \").strip()\n",
    "\n",
    "def normalize_spacing(text):\n",
    "    return \" \".join(text.split())\n",
    "\n",
    "def process_text(text):\n",
    "    text = remove_punctuation(text)\n",
    "    text = remove_special_chars(text)\n",
    "    text = normalize_spacing(text)\n",
    "    return text"
   ]
  },
  {
   "cell_type": "code",
   "execution_count": null,
   "metadata": {
    "execution": {
     "iopub.execute_input": "2023-08-15T11:08:47.238195Z",
     "iopub.status.busy": "2023-08-15T11:08:47.237166Z",
     "iopub.status.idle": "2023-08-15T11:08:50.588516Z",
     "shell.execute_reply": "2023-08-15T11:08:50.587474Z",
     "shell.execute_reply.started": "2023-08-15T11:08:47.238164Z"
    }
   },
   "outputs": [
    {
     "ename": "NameError",
     "evalue": "name 'train_sentences' is not defined",
     "output_type": "error",
     "traceback": [
      "\u001b[1;31m---------------------------------------------------------------------------\u001b[0m",
      "\u001b[1;31mNameError\u001b[0m                                 Traceback (most recent call last)",
      "\u001b[1;32mc:\\Users\\hp\\OneDrive\\Desktop\\Toxic Comments Classification\\comment-toxicity-classification.ipynb Cell 17\u001b[0m line \u001b[0;36m2\n\u001b[0;32m      <a href='vscode-notebook-cell:/c%3A/Users/hp/OneDrive/Desktop/Toxic%20Comments%20Classification/comment-toxicity-classification.ipynb#X22sZmlsZQ%3D%3D?line=0'>1</a>\u001b[0m \u001b[39m# apply preprocessing\u001b[39;00m\n\u001b[1;32m----> <a href='vscode-notebook-cell:/c%3A/Users/hp/OneDrive/Desktop/Toxic%20Comments%20Classification/comment-toxicity-classification.ipynb#X22sZmlsZQ%3D%3D?line=1'>2</a>\u001b[0m train_sentences \u001b[39m=\u001b[39m train_sentences\u001b[39m.\u001b[39mmap(process_text)\n\u001b[0;32m      <a href='vscode-notebook-cell:/c%3A/Users/hp/OneDrive/Desktop/Toxic%20Comments%20Classification/comment-toxicity-classification.ipynb#X22sZmlsZQ%3D%3D?line=2'>3</a>\u001b[0m val_sentences \u001b[39m=\u001b[39m val_sentences\u001b[39m.\u001b[39mmap(process_text)\n",
      "\u001b[1;31mNameError\u001b[0m: name 'train_sentences' is not defined"
     ]
    }
   ],
   "source": [
    "# apply preprocessing\n",
    "train_sentences = train_sentences.map(process_text)\n",
    "val_sentences = val_sentences.map(process_text)"
   ]
  },
  {
   "cell_type": "code",
   "execution_count": null,
   "metadata": {
    "execution": {
     "iopub.execute_input": "2023-08-15T11:08:50.590780Z",
     "iopub.status.busy": "2023-08-15T11:08:50.589918Z",
     "iopub.status.idle": "2023-08-15T11:08:50.687440Z",
     "shell.execute_reply": "2023-08-15T11:08:50.686469Z",
     "shell.execute_reply.started": "2023-08-15T11:08:50.590745Z"
    }
   },
   "outputs": [
    {
     "name": "stdout",
     "output_type": "stream",
     "text": [
      "Word count statistics:\n",
      "\n"
     ]
    },
    {
     "data": {
      "text/plain": [
       "count    127656.000000\n",
       "mean        372.504583\n",
       "std         560.487456\n",
       "min           3.000000\n",
       "25%          89.000000\n",
       "50%         193.000000\n",
       "75%         413.000000\n",
       "max        5000.000000\n",
       "Name: comment_text, dtype: float64"
      ]
     },
     "execution_count": 13,
     "metadata": {},
     "output_type": "execute_result"
    }
   ],
   "source": [
    "# before we continue, let's get some info about the word count for the sentences\n",
    "print(\"Word count statistics:\\n\")\n",
    "train_sentences.apply(len).describe()"
   ]
  },
  {
   "cell_type": "code",
   "execution_count": null,
   "metadata": {
    "execution": {
     "iopub.execute_input": "2023-08-15T11:08:50.689650Z",
     "iopub.status.busy": "2023-08-15T11:08:50.688999Z",
     "iopub.status.idle": "2023-08-15T11:08:50.695043Z",
     "shell.execute_reply": "2023-08-15T11:08:50.694104Z",
     "shell.execute_reply.started": "2023-08-15T11:08:50.689616Z"
    }
   },
   "outputs": [],
   "source": [
    "# convert Pandas series to NumPy arrays\n",
    "train_sentences = train_sentences.to_numpy()\n",
    "train_labels = train_labels.to_numpy()\n",
    "val_sentences = val_sentences.to_numpy()\n",
    "val_labels = val_labels.to_numpy()"
   ]
  },
  {
   "cell_type": "code",
   "execution_count": null,
   "metadata": {
    "execution": {
     "iopub.execute_input": "2023-08-15T11:08:50.697346Z",
     "iopub.status.busy": "2023-08-15T11:08:50.696694Z",
     "iopub.status.idle": "2023-08-15T11:08:50.708246Z",
     "shell.execute_reply": "2023-08-15T11:08:50.707236Z",
     "shell.execute_reply.started": "2023-08-15T11:08:50.697312Z"
    }
   },
   "outputs": [
    {
     "data": {
      "text/plain": [
       "array(['fanny does as well poo',\n",
       "       'what the hell is your problem why the fuck are you removing my edits on aricles and talk pages you want me to stay calm stop removing my edits',\n",
       "       'Brother Cream Hello Yunshui I noticed that you deleted Brother Cream because it duplicates an existing topic Tsim Tung Brother Cream First of all this is fine The deleted article had several Chineselanguage sources in it that would be useful in the existent article Therefore Im requesting that you please WPREFUND the deleted article to talk',\n",
       "       ..., 'Bla bla bla Where are links to proof Where',\n",
       "       'Do you think you are the owner of this article Then you are inviting and justifying a photowar Replace the Eyüp photo with a high noon photo of either Sultanahmet mosque or Büyük Mecidiye of Ortaköy Place the remaining one of the two photos in the collage instead of that Alhambra that does not belong here Please',\n",
       "       'do you ever feel proud of blocking persons'], dtype=object)"
      ]
     },
     "execution_count": 15,
     "metadata": {},
     "output_type": "execute_result"
    }
   ],
   "source": [
    "# much better!\n",
    "train_sentences"
   ]
  },
  {
   "cell_type": "markdown",
   "metadata": {},
   "source": [
    "# Tokenization preparation\n",
    "\n",
    "**In fact, TensorFlow JS, which is used to load the model on the frontend, does not support the TextVectorization layer. Instead, we'll have to use the TensorFlow Tokenizer.**"
   ]
  },
  {
   "cell_type": "code",
   "execution_count": 16,
   "metadata": {
    "execution": {
     "iopub.execute_input": "2023-08-15T11:08:50.710041Z",
     "iopub.status.busy": "2023-08-15T11:08:50.709534Z",
     "iopub.status.idle": "2023-08-15T11:08:52.825721Z",
     "shell.execute_reply": "2023-08-15T11:08:52.824671Z",
     "shell.execute_reply.started": "2023-08-15T11:08:50.710006Z"
    }
   },
   "outputs": [
    {
     "name": "stdout",
     "output_type": "stream",
     "text": [
      "Vocab size: 259549\n"
     ]
    }
   ],
   "source": [
    "# let's figure out how many unique words there are in our vocabulary\n",
    "\n",
    "vocab = set()\n",
    "for sentence in train_sentences:\n",
    "    for word in sentence.split():\n",
    "        vocab.add(word)\n",
    "        \n",
    "vocab_size = len(vocab)\n",
    "print(f\"Vocab size: {vocab_size}\")"
   ]
  },
  {
   "cell_type": "code",
   "execution_count": 17,
   "metadata": {
    "execution": {
     "iopub.execute_input": "2023-08-15T11:08:52.829331Z",
     "iopub.status.busy": "2023-08-15T11:08:52.829038Z",
     "iopub.status.idle": "2023-08-15T11:08:52.834062Z",
     "shell.execute_reply": "2023-08-15T11:08:52.832930Z",
     "shell.execute_reply.started": "2023-08-15T11:08:52.829306Z"
    }
   },
   "outputs": [],
   "source": [
    "vocab_size=100000"
   ]
  },
  {
   "cell_type": "code",
   "execution_count": null,
   "metadata": {},
   "outputs": [],
   "source": []
  },
  {
   "cell_type": "code",
   "execution_count": 18,
   "metadata": {
    "execution": {
     "iopub.execute_input": "2023-08-15T11:08:52.835985Z",
     "iopub.status.busy": "2023-08-15T11:08:52.835555Z",
     "iopub.status.idle": "2023-08-15T11:09:05.636204Z",
     "shell.execute_reply": "2023-08-15T11:09:05.635093Z",
     "shell.execute_reply.started": "2023-08-15T11:08:52.835948Z"
    }
   },
   "outputs": [],
   "source": [
    "from tensorflow.keras.preprocessing.text import Tokenizer\n",
    "from tensorflow.keras.preprocessing.sequence import pad_sequences\n",
    "\n",
    "tokenizer = Tokenizer(num_words=vocab_size)\n",
    "tokenizer.fit_on_texts(train_sentences)"
   ]
  },
  {
   "cell_type": "code",
   "execution_count": 19,
   "metadata": {
    "execution": {
     "iopub.execute_input": "2023-08-15T11:09:05.638839Z",
     "iopub.status.busy": "2023-08-15T11:09:05.637702Z",
     "iopub.status.idle": "2023-08-15T11:09:05.903118Z",
     "shell.execute_reply": "2023-08-15T11:09:05.902023Z",
     "shell.execute_reply.started": "2023-08-15T11:09:05.638801Z"
    }
   },
   "outputs": [
    {
     "name": "stdout",
     "output_type": "stream",
     "text": [
      "100000\n"
     ]
    }
   ],
   "source": [
    "# get limited vocabulary from tokenizer word index\n",
    "\n",
    "import json\n",
    "\n",
    "vocab = {}\n",
    "for word, index in tokenizer.word_index.items():\n",
    "    if index <= vocab_size:\n",
    "        vocab[word] = index\n",
    "        \n",
    "print(len(vocab))\n",
    "\n",
    "with open(\"tokenizer_dictionary.json\", \"w\") as file:\n",
    "    json.dump(vocab, file)"
   ]
  },
  {
   "cell_type": "code",
   "execution_count": 20,
   "metadata": {
    "execution": {
     "iopub.execute_input": "2023-08-15T11:09:05.910495Z",
     "iopub.status.busy": "2023-08-15T11:09:05.909525Z",
     "iopub.status.idle": "2023-08-15T11:09:16.197576Z",
     "shell.execute_reply": "2023-08-15T11:09:16.196261Z",
     "shell.execute_reply.started": "2023-08-15T11:09:05.910458Z"
    }
   },
   "outputs": [
    {
     "name": "stdout",
     "output_type": "stream",
     "text": [
      "Train sentences (vectorized): (127656, 300)\n",
      "Validation sentences (vectorized): (31915, 300)\n"
     ]
    }
   ],
   "source": [
    "# convert sentences to integer sequences\n",
    "train_sequences = tokenizer.texts_to_sequences(train_sentences)\n",
    "val_sequences = tokenizer.texts_to_sequences(val_sentences)\n",
    "\n",
    "# pad integer sequences into fixed length\n",
    "max_length = 300\n",
    "padding_type = \"post\"\n",
    "trunc_type = \"post\"\n",
    "\n",
    "train_sequences = pad_sequences(train_sequences, maxlen=max_length, padding=padding_type, truncating=trunc_type)\n",
    "val_sequences = pad_sequences(val_sequences, maxlen=max_length, padding=padding_type, truncating=trunc_type)\n",
    "\n",
    "print(f\"Train sentences (vectorized): {train_sequences.shape}\")\n",
    "print(f\"Validation sentences (vectorized): {val_sequences.shape}\")"
   ]
  },
  {
   "cell_type": "markdown",
   "metadata": {},
   "source": [
    "# Create model"
   ]
  },
  {
   "cell_type": "code",
   "execution_count": 21,
   "metadata": {
    "execution": {
     "iopub.execute_input": "2023-08-15T11:09:16.199640Z",
     "iopub.status.busy": "2023-08-15T11:09:16.199233Z",
     "iopub.status.idle": "2023-08-15T11:09:16.206078Z",
     "shell.execute_reply": "2023-08-15T11:09:16.205104Z",
     "shell.execute_reply.started": "2023-08-15T11:09:16.199603Z"
    }
   },
   "outputs": [],
   "source": [
    "import tensorflow as tf\n",
    "from tensorflow.keras.layers import Embedding, LSTM, Dense, TextVectorization, Input"
   ]
  },
  {
   "cell_type": "code",
   "execution_count": 22,
   "metadata": {
    "execution": {
     "iopub.execute_input": "2023-08-15T11:09:16.208009Z",
     "iopub.status.busy": "2023-08-15T11:09:16.207648Z",
     "iopub.status.idle": "2023-08-15T11:09:16.217852Z",
     "shell.execute_reply": "2023-08-15T11:09:16.216790Z",
     "shell.execute_reply.started": "2023-08-15T11:09:16.207970Z"
    }
   },
   "outputs": [],
   "source": [
    "# our model will first convert the vectorized sentences into embeddings (fixed-size vectors)\n",
    "# the model will automatically learn the best embeddings (which are really the weights)\n",
    "# but we can set the dimension for the embeddings ourselves\n",
    "embedding_dim = 200"
   ]
  },
  {
   "cell_type": "code",
   "execution_count": 23,
   "metadata": {
    "execution": {
     "iopub.execute_input": "2023-08-15T11:09:16.219668Z",
     "iopub.status.busy": "2023-08-15T11:09:16.219299Z",
     "iopub.status.idle": "2023-08-15T11:09:18.079680Z",
     "shell.execute_reply": "2023-08-15T11:09:18.078656Z",
     "shell.execute_reply.started": "2023-08-15T11:09:16.219634Z"
    }
   },
   "outputs": [],
   "source": [
    "# define and compile model\n",
    "\n",
    "model = tf.keras.Sequential([\n",
    "    Embedding(vocab_size, embedding_dim, input_length=max_length),\n",
    "    LSTM(16, activation=\"tanh\"),\n",
    "    Dense(6, activation=\"sigmoid\"), # we are predicting for 6 classes\n",
    "])\n",
    "\n",
    "model.compile(\n",
    "    loss=\"binary_crossentropy\",\n",
    "    optimizer=\"adam\",\n",
    "    metrics=[\"accuracy\"]\n",
    ")"
   ]
  },
  {
   "cell_type": "code",
   "execution_count": 24,
   "metadata": {
    "execution": {
     "iopub.execute_input": "2023-08-15T11:09:18.081714Z",
     "iopub.status.busy": "2023-08-15T11:09:18.081345Z",
     "iopub.status.idle": "2023-08-15T11:09:18.102146Z",
     "shell.execute_reply": "2023-08-15T11:09:18.101384Z",
     "shell.execute_reply.started": "2023-08-15T11:09:18.081681Z"
    }
   },
   "outputs": [
    {
     "name": "stdout",
     "output_type": "stream",
     "text": [
      "Model: \"sequential\"\n",
      "_________________________________________________________________\n",
      " Layer (type)                Output Shape              Param #   \n",
      "=================================================================\n",
      " embedding (Embedding)       (None, 300, 200)          20000000  \n",
      "                                                                 \n",
      " lstm (LSTM)                 (None, 16)                13888     \n",
      "                                                                 \n",
      " dense (Dense)               (None, 6)                 102       \n",
      "                                                                 \n",
      "=================================================================\n",
      "Total params: 20,013,990\n",
      "Trainable params: 20,013,990\n",
      "Non-trainable params: 0\n",
      "_________________________________________________________________\n"
     ]
    }
   ],
   "source": [
    "model.summary()"
   ]
  },
  {
   "cell_type": "code",
   "execution_count": 25,
   "metadata": {
    "execution": {
     "iopub.execute_input": "2023-08-15T11:09:18.103861Z",
     "iopub.status.busy": "2023-08-15T11:09:18.103197Z",
     "iopub.status.idle": "2023-08-15T11:09:18.110633Z",
     "shell.execute_reply": "2023-08-15T11:09:18.109649Z",
     "shell.execute_reply.started": "2023-08-15T11:09:18.103828Z"
    }
   },
   "outputs": [],
   "source": [
    "# set model training parameters\n",
    "\n",
    "epochs = 5 # if you want to improve performance, try increasing the number of training epochs\n",
    "batch_size = 64\n",
    "callbacks = [\n",
    "    tf.keras.callbacks.EarlyStopping(patience=3),\n",
    "]"
   ]
  },
  {
   "cell_type": "code",
   "execution_count": 26,
   "metadata": {
    "execution": {
     "iopub.execute_input": "2023-08-15T11:09:18.112196Z",
     "iopub.status.busy": "2023-08-15T11:09:18.111854Z",
     "iopub.status.idle": "2023-08-15T11:09:29.181341Z",
     "shell.execute_reply": "2023-08-15T11:09:29.180019Z",
     "shell.execute_reply.started": "2023-08-15T11:09:18.112165Z"
    }
   },
   "outputs": [
    {
     "name": "stdout",
     "output_type": "stream",
     "text": [
      "998/998 [==============================] - 20s 19ms/step - loss: 0.7057 - accuracy: 0.0027\n"
     ]
    },
    {
     "data": {
      "text/plain": [
       "[0.7056665420532227, 0.0026946577709168196]"
      ]
     },
     "execution_count": 26,
     "metadata": {},
     "output_type": "execute_result"
    }
   ],
   "source": [
    "model.evaluate(val_sequences, val_labels)"
   ]
  },
  {
   "cell_type": "code",
   "execution_count": 27,
   "metadata": {
    "execution": {
     "iopub.execute_input": "2023-08-15T11:09:29.183777Z",
     "iopub.status.busy": "2023-08-15T11:09:29.183356Z",
     "iopub.status.idle": "2023-08-15T11:15:53.108837Z",
     "shell.execute_reply": "2023-08-15T11:15:53.107532Z",
     "shell.execute_reply.started": "2023-08-15T11:09:29.183739Z"
    }
   },
   "outputs": [
    {
     "name": "stdout",
     "output_type": "stream",
     "text": [
      "Epoch 1/5\n",
      "1995/1995 [==============================] - 434s 216ms/step - loss: 0.1489 - accuracy: 0.9436 - val_loss: 0.1397 - val_accuracy: 0.9931\n",
      "Epoch 2/5\n",
      "1995/1995 [==============================] - 403s 202ms/step - loss: 0.1404 - accuracy: 0.9899 - val_loss: 0.1396 - val_accuracy: 0.9934\n",
      "Epoch 3/5\n",
      "1995/1995 [==============================] - 322s 161ms/step - loss: 0.1389 - accuracy: 0.9893 - val_loss: 0.1141 - val_accuracy: 0.9935\n",
      "Epoch 4/5\n",
      "1995/1995 [==============================] - 254s 127ms/step - loss: 0.1338 - accuracy: 0.9943 - val_loss: 0.1082 - val_accuracy: 0.9935\n",
      "Epoch 5/5\n",
      "1995/1995 [==============================] - 252s 126ms/step - loss: 0.1123 - accuracy: 0.9935 - val_loss: 0.1259 - val_accuracy: 0.9935\n"
     ]
    },
    {
     "data": {
      "text/plain": [
       "<keras.callbacks.History at 0x7fee434d8760>"
      ]
     },
     "execution_count": 27,
     "metadata": {},
     "output_type": "execute_result"
    }
   ],
   "source": [
    "# train model\n",
    "\n",
    "model.fit(\n",
    "    train_sequences,\n",
    "    train_labels,\n",
    "    validation_data=(val_sequences, val_labels),\n",
    "    epochs=epochs,\n",
    "    batch_size=batch_size,\n",
    "    callbacks=callbacks,\n",
    ")"
   ]
  },
  {
   "cell_type": "code",
   "execution_count": 28,
   "metadata": {
    "execution": {
     "iopub.execute_input": "2023-08-15T11:15:53.111642Z",
     "iopub.status.busy": "2023-08-15T11:15:53.110836Z",
     "iopub.status.idle": "2023-08-15T11:15:53.617504Z",
     "shell.execute_reply": "2023-08-15T11:15:53.616600Z",
     "shell.execute_reply.started": "2023-08-15T11:15:53.111604Z"
    }
   },
   "outputs": [
    {
     "data": {
      "image/png": "[encoded data removed]",
      "text/plain": [
       "<Figure size 1440x360 with 2 Axes>"
      ]
     },
     "metadata": {
      "needs_background": "light"
     },
     "output_type": "display_data"
    }
   ],
   "source": [
    "hist = model.history.history\n",
    "\n",
    "plt.figure(figsize=(20, 5))\n",
    "\n",
    "plt.subplot(1, 2, 1)\n",
    "plt.title(\"Loss\")\n",
    "plt.plot(hist[\"loss\"], label=\"Training loss\")\n",
    "plt.plot(hist[\"val_loss\"], label=\"Validation loss\")\n",
    "plt.xlabel(\"Epoch\")\n",
    "plt.ylabel(\"Loss\")\n",
    "plt.xticks(range(len(hist[\"loss\"])))\n",
    "plt.legend(loc=\"upper right\")\n",
    "plt.grid(True)\n",
    "\n",
    "plt.subplot(1, 2, 2)\n",
    "plt.title(\"Accuracy\")\n",
    "plt.plot(hist[\"accuracy\"], label=\"Training accuracy\")\n",
    "plt.plot(hist[\"val_accuracy\"], label=\"Validation accuracy\")\n",
    "plt.xlabel(\"Epoch\")\n",
    "plt.ylabel(\"Accuracy\")\n",
    "plt.xticks(range(len(hist[\"accuracy\"])))\n",
    "plt.legend(loc=\"lower right\")\n",
    "plt.grid(True)\n",
    "\n",
    "plt.show()"
   ]
  },
  {
   "cell_type": "markdown",
   "metadata": {},
   "source": [
    "# Predictions"
   ]
  },
  {
   "cell_type": "code",
   "execution_count": 29,
   "metadata": {
    "execution": {
     "iopub.execute_input": "2023-08-15T11:15:53.619001Z",
     "iopub.status.busy": "2023-08-15T11:15:53.618641Z",
     "iopub.status.idle": "2023-08-15T11:15:53.626741Z",
     "shell.execute_reply": "2023-08-15T11:15:53.625619Z",
     "shell.execute_reply.started": "2023-08-15T11:15:53.618965Z"
    }
   },
   "outputs": [],
   "source": [
    "def predict(sentence):\n",
    "    # convert sentence to sequence\n",
    "    sequences = tokenizer.texts_to_sequences([sentence])\n",
    "    padded_sequences = pad_sequences(sequences, maxlen=max_length, padding=padding_type, truncating=trunc_type)\n",
    "    \n",
    "    # get predictions for toxicity\n",
    "    predictions = model.predict(padded_sequences)[0]\n",
    "    \n",
    "    return list(zip(labels, predictions))"
   ]
  },
  {
   "cell_type": "code",
   "execution_count": 30,
   "metadata": {
    "execution": {
     "iopub.execute_input": "2023-08-15T11:15:53.629369Z",
     "iopub.status.busy": "2023-08-15T11:15:53.628341Z",
     "iopub.status.idle": "2023-08-15T11:15:54.068282Z",
     "shell.execute_reply": "2023-08-15T11:15:54.067145Z",
     "shell.execute_reply.started": "2023-08-15T11:15:53.629332Z"
    }
   },
   "outputs": [
    {
     "name": "stdout",
     "output_type": "stream",
     "text": [
      "1/1 [==============================] - 0s 319ms/step\n"
     ]
    },
    {
     "data": {
      "text/plain": [
       "[('toxic', 0.08578369),\n",
       " ('severe_toxic', 0.0038679282),\n",
       " ('obscene', 0.04122875),\n",
       " ('threat', 0.0015137994),\n",
       " ('insult', 0.03839737),\n",
       " ('identity_hate', 0.005852607)]"
      ]
     },
     "execution_count": 30,
     "metadata": {},
     "output_type": "execute_result"
    }
   ],
   "source": [
    "predict(\"I hate you\")"
   ]
  },
  {
   "cell_type": "code",
   "execution_count": 31,
   "metadata": {
    "execution": {
     "iopub.execute_input": "2023-08-15T11:15:54.070673Z",
     "iopub.status.busy": "2023-08-15T11:15:54.070230Z",
     "iopub.status.idle": "2023-08-15T11:15:54.152834Z",
     "shell.execute_reply": "2023-08-15T11:15:54.150637Z",
     "shell.execute_reply.started": "2023-08-15T11:15:54.070633Z"
    }
   },
   "outputs": [
    {
     "name": "stdout",
     "output_type": "stream",
     "text": [
      "1/1 [==============================] - 0s 23ms/step\n"
     ]
    },
    {
     "data": {
      "text/plain": [
       "[('toxic', 0.08578367),\n",
       " ('severe_toxic', 0.0038679282),\n",
       " ('obscene', 0.04122875),\n",
       " ('threat', 0.0015137994),\n",
       " ('insult', 0.038397383),\n",
       " ('identity_hate', 0.005852607)]"
      ]
     },
     "execution_count": 31,
     "metadata": {},
     "output_type": "execute_result"
    }
   ],
   "source": [
    "predict(\"You should kill yourself right now\")"
   ]
  },
  {
   "cell_type": "code",
   "execution_count": 32,
   "metadata": {
    "execution": {
     "iopub.execute_input": "2023-08-15T11:16:39.165730Z",
     "iopub.status.busy": "2023-08-15T11:16:39.165312Z",
     "iopub.status.idle": "2023-08-15T11:16:39.235651Z",
     "shell.execute_reply": "2023-08-15T11:16:39.234572Z",
     "shell.execute_reply.started": "2023-08-15T11:16:39.165697Z"
    }
   },
   "outputs": [
    {
     "name": "stdout",
     "output_type": "stream",
     "text": [
      "1/1 [==============================] - 0s 19ms/step\n"
     ]
    },
    {
     "data": {
      "text/plain": [
       "[('toxic', 0.08578369),\n",
       " ('severe_toxic', 0.0038679282),\n",
       " ('obscene', 0.04122875),\n",
       " ('threat', 0.0015138001),\n",
       " ('insult', 0.03839737),\n",
       " ('identity_hate', 0.005852607)]"
      ]
     },
     "execution_count": 32,
     "metadata": {},
     "output_type": "execute_result"
    }
   ],
   "source": [
    "predict(\"I love you\")"
   ]
  },
  {
   "cell_type": "markdown",
   "metadata": {},
   "source": [
    "# Export model"
   ]
  },
  {
   "cell_type": "code",
   "execution_count": 33,
   "metadata": {
    "execution": {
     "iopub.execute_input": "2023-08-15T11:16:01.396562Z",
     "iopub.status.busy": "2023-08-15T11:16:01.396128Z",
     "iopub.status.idle": "2023-08-15T11:16:11.717822Z",
     "shell.execute_reply": "2023-08-15T11:16:11.716627Z",
     "shell.execute_reply.started": "2023-08-15T11:16:01.396510Z"
    }
   },
   "outputs": [
    {
     "name": "stdout",
     "output_type": "stream",
     "text": [
      "998/998 [==============================] - 13s 13ms/step - loss: 0.1259 - accuracy: 0.9935\n",
      "Accuracy on validation sentences: 0.9934513568878174\n"
     ]
    }
   ],
   "source": [
    "loss, accuracy = model.evaluate(val_sequences, val_labels)\n",
    "print(f\"Accuracy on validation sentences: {accuracy}\")"
   ]
  },
  {
   "cell_type": "code",
   "execution_count": 34,
   "metadata": {
    "execution": {
     "iopub.execute_input": "2023-08-15T11:17:17.236685Z",
     "iopub.status.busy": "2023-08-15T11:17:17.236254Z",
     "iopub.status.idle": "2023-08-15T11:17:17.746343Z",
     "shell.execute_reply": "2023-08-15T11:17:17.745055Z",
     "shell.execute_reply.started": "2023-08-15T11:17:17.236650Z"
    }
   },
   "outputs": [],
   "source": [
    "# save model\n",
    "\n",
    "save_dir = \"comment_toxicity_classifier.h5\"\n",
    "model.save(save_dir)"
   ]
  },
  {
   "cell_type": "code",
   "execution_count": null,
   "metadata": {},
   "outputs": [],
   "source": []
  },
  {
   "cell_type": "code",
   "execution_count": null,
   "metadata": {},
   "outputs": [],
   "source": []
  }
 ],
 "metadata": {
  "kernelspec": {
   "display_name": "Python 3 (ipykernel)",
   "language": "python",
   "name": "python3"
  },
  "language_info": {
   "codemirror_mode": {
    "name": "ipython",
    "version": 3
   },
   "file_extension": ".py",
   "mimetype": "text/x-python",
   "name": "python",
   "nbconvert_exporter": "python",
   "pygments_lexer": "ipython3",
   "version": "3.12.0rc1"
  }
 },
 "nbformat": 4,
 "nbformat_minor": 4
}
